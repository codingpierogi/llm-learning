{
 "cells": [
  {
   "cell_type": "raw",
   "id": "b50759b3-ded5-4d3b-bfa8-f942515b4eda",
   "metadata": {},
   "source": [
    "# The Price is Right\n",
    "\n",
    "First we'll polish off 2 more simple agents:\n",
    "\n",
    "The **Messaging Agent** to send push notifications\n",
    "\n",
    "The **Planning Agent** to coordinate activities\n",
    "\n",
    "Then we'll put it all together into an Agent Framework.\n",
    "\n",
    "For the Push Notification, we will be using a nifty platform called Pushover.  \n",
    "You'll need to set up a free account and add 2 tokens to your `.env` file:\n",
    "\n",
    "```\n",
    "PUSHOVER_USER=xxx\n",
    "PUSHOVER_TOKEN=xxx\n",
    "```"
   ]
  },
  {
   "cell_type": "code",
   "execution_count": 1,
   "id": "9d7a0d48-4042-4d07-a6b4-4df3d52ec95c",
   "metadata": {},
   "outputs": [
    {
     "name": "stdout",
     "output_type": "stream",
     "text": [
      "Installed kernelspec llms in /Users/jonpesta/Library/Jupyter/kernels/llms\n"
     ]
    }
   ],
   "source": [
    "!python -m ipykernel install --user --name=llms"
   ]
  },
  {
   "cell_type": "code",
   "execution_count": 2,
   "id": "80d683d9-9e92-44ae-af87-a413ca84db21",
   "metadata": {},
   "outputs": [],
   "source": [
    "from dotenv import load_dotenv\n",
    "from agents.messaging_agent import MessagingAgent"
   ]
  },
  {
   "cell_type": "code",
   "execution_count": 3,
   "id": "5ba769cc-5301-4810-b01f-cab584cfb3b3",
   "metadata": {},
   "outputs": [],
   "source": [
    "load_dotenv(override=True)\n",
    "DB = \"products_vectorstore\""
   ]
  },
  {
   "cell_type": "code",
   "execution_count": 4,
   "id": "e05cc427-3d2c-4792-ade1-d356f95a82a9",
   "metadata": {},
   "outputs": [],
   "source": [
    "agent = MessagingAgent()"
   ]
  },
  {
   "cell_type": "code",
   "execution_count": 5,
   "id": "5ec518f5-dae4-44b1-a185-d7eaf853ec00",
   "metadata": {},
   "outputs": [],
   "source": [
    "agent.push(\"MASSIVE NEWS!!!\")"
   ]
  },
  {
   "cell_type": "markdown",
   "id": "7f2781ad-e122-4570-8fad-a2fe6452414e",
   "metadata": {},
   "source": [
    "<table style=\"margin: 0; text-align: left;\">\n",
    "    <tr>\n",
    "        <td style=\"width: 150px; height: 150px; vertical-align: middle;\">\n",
    "            <img src=\"../resources.jpg\" width=\"150\" height=\"150\" style=\"display: block;\" />\n",
    "        </td>\n",
    "        <td>\n",
    "            <h2 style=\"color:#f71;\">Additional resource: more sophisticated planning agent</h2>\n",
    "            <span style=\"color:#f71;\">The Planning Agent that we use in the next cell is simply a python script that calls the other Agents; frankly that's all we require for this project. But if you're intrigued to see a more Autonomous version in which we give the Planning Agent tools and allow it to decide which Agents to call, see my implementation of <a href=\"https://github.com/ed-donner/agentic/blob/main/workshop/price_agents/autonomous_planning_agent.py\">AutonomousPlanningAgent</a> in my related repo, <a href=\"https://github.com/ed-donner/agentic\">Agentic</a>. This is an example with multiple tools that dynamically decides which function to call.\n",
    "            </span>\n",
    "        </td>\n",
    "    </tr>\n",
    "</table>"
   ]
  },
  {
   "cell_type": "code",
   "execution_count": 6,
   "id": "57b3a014-0b15-425a-a29b-6fefc5006dee",
   "metadata": {},
   "outputs": [],
   "source": [
    "import chromadb\n",
    "DB = \"products_vectorstore\"\n",
    "client = chromadb.PersistentClient(path=DB)\n",
    "collection = client.get_or_create_collection('products')\n",
    "from agents.planning_agent import PlanningAgent"
   ]
  },
  {
   "cell_type": "code",
   "execution_count": 7,
   "id": "a5c31c39-e357-446e-9cec-b4775c298941",
   "metadata": {},
   "outputs": [],
   "source": [
    "planner = PlanningAgent(collection)"
   ]
  },
  {
   "cell_type": "code",
   "execution_count": 8,
   "id": "d9ac771b-ea12-41c0-a7ce-05f12e27ad9e",
   "metadata": {},
   "outputs": [
    {
     "data": {
      "text/plain": [
       "Opportunity(deal=Deal(product_description='The Hisense QD65 Series 65” 4K HDR QLED UHD Smart TV delivers stunning picture quality with a 3840x2160 resolution. It features vivid colors, deep contrasts, and supports HDR content for an enhanced viewing experience. With built-in Alexa, you can control your TV and smart home devices with your voice, while its extensive connectivity options ensure compatibility with various devices. This model is well-suited for movie nights and gaming alike, making it a versatile addition to any home entertainment setup.', price=340.0, url='https://www.dealnews.com/products/Hisense/Hisense-QD65-Series-65-QD65-NF-65-4-K-HDR-QLED-UHD-Smart-TV/492337.html?iref=rss-c142'), estimate=705.6875730499343, discount=365.68757304993426)"
      ]
     },
     "execution_count": 8,
     "metadata": {},
     "output_type": "execute_result"
    }
   ],
   "source": [
    "planner.plan()"
   ]
  },
  {
   "cell_type": "code",
   "execution_count": null,
   "id": "8dd94a70-3202-452b-9ef0-551d6feb159b",
   "metadata": {},
   "outputs": [],
   "source": []
  },
  {
   "cell_type": "code",
   "execution_count": null,
   "id": "da2dfd01-59fd-48a6-846a-4941074f1a83",
   "metadata": {},
   "outputs": [],
   "source": []
  }
 ],
 "metadata": {
  "kernelspec": {
   "display_name": "llms",
   "language": "python",
   "name": "llms"
  },
  "language_info": {
   "codemirror_mode": {
    "name": "ipython",
    "version": 3
   },
   "file_extension": ".py",
   "mimetype": "text/x-python",
   "name": "python",
   "nbconvert_exporter": "python",
   "pygments_lexer": "ipython3",
   "version": "3.11.13"
  }
 },
 "nbformat": 4,
 "nbformat_minor": 5
}
