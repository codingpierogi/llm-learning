{
 "cells": [
  {
   "cell_type": "markdown",
   "id": "0df0d850-49eb-4a0b-a27a-146969db710d",
   "metadata": {},
   "source": [
    "# The Price is Right\n",
    "\n",
    "Today we'll build another piece of the puzzle: a ScanningAgent that looks for promising deals by subscribing to RSS feeds."
   ]
  },
  {
   "cell_type": "code",
   "execution_count": 1,
   "id": "d3763a79-8a5a-4300-8de4-93e85475af10",
   "metadata": {},
   "outputs": [],
   "source": [
    "# imports\n",
    "\n",
    "import os\n",
    "import json\n",
    "from dotenv import load_dotenv\n",
    "from openai import OpenAI\n",
    "from agents.deals import ScrapedDeal, DealSelection"
   ]
  },
  {
   "cell_type": "code",
   "execution_count": 2,
   "id": "c6469e32-16c3-4443-9475-ade710ef6933",
   "metadata": {},
   "outputs": [],
   "source": [
    "# Initialize and constants\n",
    "\n",
    "load_dotenv(override=True)\n",
    "os.environ['OPENAI_API_KEY'] = os.getenv('OPENAI_API_KEY', 'your-key-if-not-using-env')\n",
    "MODEL = 'gpt-4o-mini'\n",
    "openai = OpenAI()"
   ]
  },
  {
   "cell_type": "code",
   "execution_count": 3,
   "id": "afece9db-8cd4-46be-ac57-0b472e84da7d",
   "metadata": {},
   "outputs": [
    {
     "name": "stderr",
     "output_type": "stream",
     "text": [
      "100%|██████████████████████████████████████████████████████████████████████████| 5/5 [00:59<00:00, 11.96s/it]\n"
     ]
    }
   ],
   "source": [
    "deals = ScrapedDeal.fetch(show_progress=True)"
   ]
  },
  {
   "cell_type": "code",
   "execution_count": 4,
   "id": "8cd15c4d-eb44-4601-bf0c-f945c1d8e3ec",
   "metadata": {},
   "outputs": [
    {
     "data": {
      "text/plain": [
       "50"
      ]
     },
     "execution_count": 4,
     "metadata": {},
     "output_type": "execute_result"
    }
   ],
   "source": [
    "len(deals)"
   ]
  },
  {
   "cell_type": "code",
   "execution_count": 5,
   "id": "4259f30a-6455-49ed-8863-2f9ddd4776cb",
   "metadata": {},
   "outputs": [
    {
     "data": {
      "text/plain": [
       "\"Title: Mainstays Handheld 3-in-1 Fan / Flashlight / Power Bank for $6 + free shipping w/ $35\\nDetails: That's a great price for a multipurpose tool and perfect for travel. Choose pickup or spend $35 to avoid the $6.99 shipping charge. Buy Now at Walmart\\nFeatures: foldable USB rechargeable Model: MFP2406B\\nURL: https://www.dealnews.com/products/Mainstays/Handheld-3-in-1-Fan-Flashlight-Power-Bank/492299.html?iref=rss-c196\""
      ]
     },
     "execution_count": 5,
     "metadata": {},
     "output_type": "execute_result"
    }
   ],
   "source": [
    "deals[44].describe()"
   ]
  },
  {
   "cell_type": "code",
   "execution_count": 6,
   "id": "8100e5ac-38f5-40c1-a712-08ae12c85038",
   "metadata": {},
   "outputs": [],
   "source": [
    "system_prompt = \"\"\"You identify and summarize the 5 most detailed deals from a list, by selecting deals that have the most detailed, high quality description and the most clear price.\n",
    "Respond strictly in JSON with no explanation, using this format. You should provide the price as a number derived from the description. If the price of a deal isn't clear, do not include that deal in your response.\n",
    "Most important is that you respond with the 5 deals that have the most detailed product description with price. It's not important to mention the terms of the deal; most important is a thorough description of the product.\n",
    "Be careful with products that are described as \"$XXX off\" or \"reduced by $XXX\" - this isn't the actual price of the product. Only respond with products when you are highly confident about the price. \n",
    "\n",
    "{\"deals\": [\n",
    "    {\n",
    "        \"product_description\": \"Your clearly expressed summary of the product in 4-5 sentences. Details of the item are much more important than why it's a good deal. Avoid mentioning discounts and coupons; focus on the item itself. There should be a paragpraph of text for each item you choose.\",\n",
    "        \"price\": 99.99,\n",
    "        \"url\": \"the url as provided\"\n",
    "    },\n",
    "    ...\n",
    "]}\"\"\""
   ]
  },
  {
   "cell_type": "code",
   "execution_count": 7,
   "id": "f4bca170-af71-40c9-9597-1d72980c74d8",
   "metadata": {},
   "outputs": [],
   "source": [
    "user_prompt = \"\"\"Respond with the most promising 5 deals from this list, selecting those which have the most detailed, high quality product description and a clear price.\n",
    "Respond strictly in JSON, and only JSON. You should rephrase the description to be a summary of the product itself, not the terms of the deal.\n",
    "Remember to respond with a paragraph of text in the product_description field for each of the 5 items that you select.\n",
    "Be careful with products that are described as \"$XXX off\" or \"reduced by $XXX\" - this isn't the actual price of the product. Only respond with products when you are highly confident about the price. \n",
    "\n",
    "Deals:\n",
    "\n",
    "\"\"\"\n",
    "user_prompt += '\\n\\n'.join([deal.describe() for deal in deals])"
   ]
  },
  {
   "cell_type": "code",
   "execution_count": 8,
   "id": "020947a6-561b-417b-98a0-a085e31d2ce3",
   "metadata": {},
   "outputs": [
    {
     "name": "stdout",
     "output_type": "stream",
     "text": [
      "Respond with the most promising 5 deals from this list, selecting those which have the most detailed, high quality product description and a clear price.\n",
      "Respond strictly in JSON, and only JSON. You should rephrase the description to be a summary of the product itself, not the terms of the deal.\n",
      "Remember to respond with a paragraph of text in the product_description field for each of the 5 items that you select.\n",
      "Be careful with products that are described as \"$XXX off\" or \"reduced by $XXX\" - this isn't the actual price of the product. Only respond with products when you are highly confident about the price. \n",
      "\n",
      "Deals:\n",
      "\n",
      "Title: Apple iPhone 16 Plus 128GB for Mint Mobile: 50% off 2-Year Unlimited Plan w/ purchase\n",
      "Details: Get the Apple iPhone 16 Plus, along with two years of Mint's Unlimited plan, for $54 a month. That's half off the Unlimited plan, down from $720 to $360. It requires port-in, and an upfront payment for 24 months of service. The plan renews at its normal price (currently $30 a month) when the two years are up unless cancelled. Shop Now at Mint Mobile\n",
      "Features: unlimited talk & text high speed data free mobile hotspot (up to 10GB/mo)\n",
      "URL: https://www.dealnews.com/Apple-iPhone-16-Plus-128-GB-for-Mint-Mobile-50-off-2-Year-Unlimited-Plan-w-purchase/21756933.html?iref=rss-c142\n",
      "\n",
      "Title: Mainstays Handheld 3-in-1 Fan / Flashlight / Power Bank for $6 + free shipping w/ $35\n",
      "Details: That's a great price for a multipurpose tool and perfect for travel. Choose pickup or spend $35 to avoid the $6.99 shipping charge. Buy Now at Walmart\n",
      "Features: foldable USB rechargeable Model: MFP2406B\n",
      "URL: https://www.dealnews.com/products/Mainstays/Handheld-3-in-1-Fan-Flashlight-Power-Bank/492299.html?iref=rss-c142\n",
      "\n",
      "Title: TCL QM5K Series 50QM5K 50\" 4K HDR QD-Mini LED UHD Smart TV for $350 + free shipping\n",
      "Details: It's a Best Buy exclusive and half off. Buy Now at Best Buy\n",
      "Features: 3840x2160 (4K) resolution HDR 10+ Google TV works with Google Home, Amazon Alexa, Apple Home Model: 5\n"
     ]
    }
   ],
   "source": [
    "print(user_prompt[:2000])"
   ]
  },
  {
   "cell_type": "code",
   "execution_count": 9,
   "id": "7de46f74-868c-4127-8a68-cf2da7d600bb",
   "metadata": {},
   "outputs": [],
   "source": [
    "def get_recommendations():\n",
    "    completion = openai.beta.chat.completions.parse(\n",
    "        model=\"gpt-4o-mini\",\n",
    "        messages=[\n",
    "            {\"role\": \"system\", \"content\": system_prompt},\n",
    "            {\"role\": \"user\", \"content\": user_prompt}\n",
    "      ],\n",
    "        response_format=DealSelection\n",
    "    )\n",
    "    result = completion.choices[0].message.parsed\n",
    "    return result"
   ]
  },
  {
   "cell_type": "code",
   "execution_count": 10,
   "id": "4c06270d-8c17-4d5a-9cfe-b6cefe788d5e",
   "metadata": {},
   "outputs": [],
   "source": [
    "result = get_recommendations()"
   ]
  },
  {
   "cell_type": "code",
   "execution_count": 11,
   "id": "84e62845-3338-441a-8161-c70097af4773",
   "metadata": {},
   "outputs": [
    {
     "data": {
      "text/plain": [
       "5"
      ]
     },
     "execution_count": 11,
     "metadata": {},
     "output_type": "execute_result"
    }
   ],
   "source": [
    "len(result.deals)"
   ]
  },
  {
   "cell_type": "code",
   "execution_count": 12,
   "id": "e5554a0a-ae40-4684-ad3e-faa3d22e030c",
   "metadata": {},
   "outputs": [
    {
     "data": {
      "text/plain": [
       "Deal(product_description='The 100Ah 12.8V LiFePO4 Rechargeable Battery is a reliable power solution ideal for various applications like off-grid solar power systems, RVs, and electric vehicles. This battery is designed for longevity with up to 6000 cycles and offers efficient performance even in extreme temperatures. Lightweight and compact, it enables easy installation and management. Safety features include built-in protection against overcharging and short circuits, ensuring a secure power source for your needs.', price=106.0, url='https://www.dealnews.com/100-Ah-12-8-V-Li-Fe-PO4-Rechargeable-Battery-for-106-free-shipping/21756793.html?iref=rss-c142')"
      ]
     },
     "execution_count": 12,
     "metadata": {},
     "output_type": "execute_result"
    }
   ],
   "source": [
    "result.deals[1]"
   ]
  },
  {
   "cell_type": "code",
   "execution_count": 13,
   "id": "8bdc57fb-7497-47af-a643-6ba5a21cc17e",
   "metadata": {},
   "outputs": [],
   "source": [
    "from agents.scanner_agent import ScannerAgent"
   ]
  },
  {
   "cell_type": "code",
   "execution_count": 14,
   "id": "132278bc-217a-43a6-b6c4-724140c6a225",
   "metadata": {},
   "outputs": [],
   "source": [
    "agent = ScannerAgent()\n",
    "result = agent.scan()"
   ]
  },
  {
   "cell_type": "code",
   "execution_count": 15,
   "id": "2e1d013a-c930-4dad-901b-41433379e14b",
   "metadata": {},
   "outputs": [
    {
     "data": {
      "text/plain": [
       "DealSelection(deals=[Deal(product_description='The Apple iPhone 16 Plus is a powerful smartphone featuring a 128GB storage capacity, perfect for storing all your apps, photos, and videos. It has a sleek design and is equipped with impressive technical specifications that deliver outstanding performance. The device supports advanced features like unlimited talk and text, high-speed data access, and a free mobile hotspot feature, making it a versatile choice for users who demand connectivity and performance.', price=360.0, url='https://www.dealnews.com/Apple-iPhone-16-Plus-128-GB-for-Mint-Mobile-50-off-2-Year-Unlimited-Plan-w-purchase/21756933.html?iref=rss-c142'), Deal(product_description=\"The TCL QM5K Series 50-inch 4K HDR QD-Mini LED UHD Smart TV boasts a stunning 3840x2160 resolution, providing crystal clear visuals for all your entertainment needs. This model supports HDR 10+ for enhanced color and contrast and is compatible with Google TV, allowing voice control through Google Home, Amazon Alexa, and Apple Home. It's perfect for movie nights or gaming sessions, offering a rich, immersive viewing experience.\", price=350.0, url='https://www.dealnews.com/products/TCL/TCL-QM5-K-Series-50-QM5-K-50-4-K-HDR-QD-Mini-LED-UHD-Smart-TV/492276.html?iref=rss-c142'), Deal(product_description='The 100Ah 12.8V LiFePO4 Rechargeable Battery is ideal for various applications, including solar energy storage and electric vehicles. This battery is known for its lightweight design and long cycle life, making it a reliable choice for those seeking efficiency and durability. Its robust performance ensures a steady power supply, crucial for maintaining optimal functionality in any device it powers.', price=106.0, url='https://www.dealnews.com/100-Ah-12-8-V-Li-FePO4-Rechargeable-Battery-for-106-free-shipping/21756793.html?iref=rss-c142'), Deal(product_description=\"The Samsung Odyssey Neo G7 is a top-tier 43-inch 4K gaming monitor featuring a 144Hz refresh rate and Mini-LED technology for exceptional brightness and color contrast. This monitor supports AMD FreeSync, enhances gaming experiences, and includes smart TV apps for multimedia use. It's designed to provide a competitive edge in gaming while also serving as a versatile monitor for everyday tasks.\", price=570.0, url='https://www.dealnews.com/products/Samsung/Samsung-Odyssey-Neo-G7-43-4-K-144-Hz-Mini-LED-Free-Sync-Smart-Monitor/459768.html?iref=rss-f1912'), Deal(product_description='The TCL 300 Sq. Ft. 7,000 BTU 3-in-1 Smart Portable Air Conditioner is a versatile cooling solution designed for comfort and convenience. It features multiple fan speeds, an airflow capacity of 1.38 cubic feet per minute, and connectivity options that allow compatibility with smart home systems like Amazon Alexa and Google Assistant. Ideal for small to medium-sized rooms, it ensures a pleasant environment during hot weather.', price=250.0, url='https://www.dealnews.com/TCL-300-Sq-Ft-7-000-BTU-3-in-1-Smart-Portable-Air-Conditioner-for-250-free-shipping/21756924.html?iref=rss-f1912')])"
      ]
     },
     "execution_count": 15,
     "metadata": {},
     "output_type": "execute_result"
    }
   ],
   "source": [
    "result"
   ]
  },
  {
   "cell_type": "code",
   "execution_count": null,
   "id": "5ee2e837-1f1d-42d4-8bc4-51cccc343006",
   "metadata": {},
   "outputs": [],
   "source": []
  }
 ],
 "metadata": {
  "kernelspec": {
   "display_name": "Python 3 (ipykernel)",
   "language": "python",
   "name": "python3"
  },
  "language_info": {
   "codemirror_mode": {
    "name": "ipython",
    "version": 3
   },
   "file_extension": ".py",
   "mimetype": "text/x-python",
   "name": "python",
   "nbconvert_exporter": "python",
   "pygments_lexer": "ipython3",
   "version": "3.11.13"
  }
 },
 "nbformat": 4,
 "nbformat_minor": 5
}
