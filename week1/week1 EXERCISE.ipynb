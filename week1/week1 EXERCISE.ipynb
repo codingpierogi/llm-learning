{
 "cells": [
  {
   "cell_type": "markdown",
   "id": "fe12c203-e6a6-452c-a655-afb8a03a4ff5",
   "metadata": {},
   "source": [
    "# End of week 1 exercise\n",
    "\n",
    "To demonstrate your familiarity with OpenAI API, and also Ollama, build a tool that takes a technical question,  \n",
    "and responds with an explanation. This is a tool that you will be able to use yourself during the course!"
   ]
  },
  {
   "cell_type": "code",
   "execution_count": 1,
   "id": "c1070317-3ed9-4659-abe3-828943230e03",
   "metadata": {},
   "outputs": [],
   "source": [
    "# imports\n",
    "\n",
    "from dotenv import load_dotenv\n",
    "from IPython.display import Markdown, display, update_display\n",
    "from openai import OpenAI\n",
    "import ollama"
   ]
  },
  {
   "cell_type": "code",
   "execution_count": 2,
   "id": "4a456906-915a-4bfd-bb9d-57e505c5093f",
   "metadata": {},
   "outputs": [],
   "source": [
    "# constants\n",
    "\n",
    "MODEL_GPT = 'gpt-4o-mini'\n",
    "MODEL_LLAMA = 'llama3.2'"
   ]
  },
  {
   "cell_type": "code",
   "execution_count": 3,
   "id": "a8d7923c-5f28-4c30-8556-342d7c8497c1",
   "metadata": {},
   "outputs": [],
   "source": [
    "# set up environment\n",
    "\n",
    "load_dotenv()\n",
    "openai = OpenAI()"
   ]
  },
  {
   "cell_type": "code",
   "execution_count": 4,
   "id": "3f0d0137-52b0-47a8-81a8-11a90a010798",
   "metadata": {},
   "outputs": [],
   "source": [
    "# here is the question; type over this to ask something new\n",
    "\n",
    "question = \"\"\"\n",
    "Please explain what this code does and why:\n",
    "yield from {book.get(\"author\") for book in books if book.get(\"author\")}\n",
    "\"\"\""
   ]
  },
  {
   "cell_type": "code",
   "execution_count": 5,
   "id": "0387f598",
   "metadata": {},
   "outputs": [],
   "source": [
    "# prompts\n",
    "\n",
    "system_prompt = \"You are a helpful technical tutor who answers questions about Python code, software engineering, data science, and LLMs.\"\n",
    "user_prompt = \"Please give a detailed explanation of the following question: \" + question"
   ]
  },
  {
   "cell_type": "code",
   "execution_count": 6,
   "id": "4a8b6ef6",
   "metadata": {},
   "outputs": [],
   "source": [
    "# messages\n",
    "\n",
    "messages = [\n",
    "    {\"role\": \"system\", \"content\": system_prompt},\n",
    "    {\"role\": \"user\", \"content\": user_prompt}\n",
    "]"
   ]
  },
  {
   "cell_type": "code",
   "execution_count": 7,
   "id": "60ce7000-a4a5-4cce-a261-e75ef45063b4",
   "metadata": {},
   "outputs": [
    {
     "data": {
      "text/markdown": [
       "The code snippet you provided uses Python's `yield` and a set comprehension to generate values from a collection of `books`. Let's break it down step by step.\n",
       "\n",
       "### Code Breakdown\n",
       "\n",
       "1. **`yield from`**:\n",
       "   - The `yield from` statement is used in Python when you want to yield all values from an iterable (like a list or set) in a generator. Essentially, it allows a generator to yield all items from another iterable without having to loop through them manually with a `for` loop.\n",
       "\n",
       "2. **`{...}` - Set Comprehension**:\n",
       "   - The `{...}` syntax indicates that a set comprehension is being used. A set is a collection of distinct items, meaning that if there are duplicate authors in the provided `books` dataset, they will only appear once in the final output.\n",
       "\n",
       "3. **`book.get(\"author\") for book in books if book.get(\"author\")`**:\n",
       "   - This is the main body of the set comprehension. Here’s what each part does:\n",
       "     - `for book in books`: This iterates over each item in the `books` list (or any iterable called `books`).\n",
       "     - `book.get(\"author\")`: This retrieves the value associated with the key `\"author\"` from the `book` dictionary. If a book does not have an `\"author\"` key, `book.get(\"author\")` returns `None`.\n",
       "     - `if book.get(\"author\")`: This conditional filters out any books where the author is `None` (i.e., books that don't have an author specified).\n",
       "\n",
       "### Full Explanation\n",
       "\n",
       "Putting it all together, the code does the following:\n",
       "- It defines a generator that will yield the unique authors from a list of books. Each book is represented as a dictionary.\n",
       "- The list of `books` is iterated over, and for each book:\n",
       "  - If the book has an author (if `book.get(\"author\")` returns a truthy value), the author is added to a set.\n",
       "- Using `yield from`, the generator yields each unique author from this set, one at a time, when the generator is iterated over.\n",
       "\n",
       "### Example\n",
       "\n",
       "Consider the following `books` list:\n",
       "\n",
       "python\n",
       "books = [\n",
       "    {\"title\": \"Book 1\", \"author\": \"Alice\"},\n",
       "    {\"title\": \"Book 2\", \"author\": \"Bob\"},\n",
       "    {\"title\": \"Book 3\"},  # No author\n",
       "    {\"title\": \"Book 4\", \"author\": \"Alice\"},  # Duplicate author\n",
       "    {\"title\": \"Book 5\", \"author\": \"Charlie\"},\n",
       "]\n",
       "\n",
       "\n",
       "If you use the given code within a generator function, invoking this generator would yield:\n",
       "\n",
       "- \"Alice\"\n",
       "- \"Bob\"\n",
       "- \"Charlie\"\n",
       "\n",
       "Each author would be yielded only once, even though \"Alice\" appears twice in the input.\n",
       "\n",
       "### Why Use This Structure?\n",
       "\n",
       "1. **Efficiency**: By using `yield from`, the generator can efficiently produce each author without needing to accumulate them in a list or loop explicitly.\n",
       "  \n",
       "2. **Memory**: It conserves memory because it generates authors on-the-fly rather than creating a large list of authors first.\n",
       "\n",
       "3. **Simplicity**: The set comprehension provides a concise way to filter and collect unique authors in a single line of code.\n",
       "\n",
       "Overall, this code is an elegant and efficient way to extract unique author names from a list of book dictionaries in Python."
      ],
      "text/plain": [
       "<IPython.core.display.Markdown object>"
      ]
     },
     "metadata": {},
     "output_type": "display_data"
    }
   ],
   "source": [
    "# Get gpt-4o-mini to answer, with streaming\n",
    "\n",
    "stream = openai.chat.completions.create(model=MODEL_GPT, messages=messages, stream=True)\n",
    "\n",
    "response = \"\"\n",
    "display_handle = display(Markdown(\"\"), display_id=True)\n",
    "for chunk in stream:\n",
    "    response += chunk.choices[0].delta.content or ''\n",
    "    response = response.replace(\"```\",\"\").replace(\"markdown\", \"\")\n",
    "    update_display(Markdown(response), display_id=display_handle.display_id)"
   ]
  },
  {
   "cell_type": "code",
   "execution_count": 9,
   "id": "8f7c8ea8-4082-4ad0-8751-3301adcf6538",
   "metadata": {},
   "outputs": [
    {
     "data": {
      "text/markdown": [
       "**Explanation**\n",
       "\n",
       "The given code snippet utilizes Python's generator syntax and the `yield from` keyword to extract author names from a list of books. Here's a breakdown of what each part does:\n",
       "\n",
       "* `{book.get(\"author\") for book in books if book.get(\"author\")}`: This is a dictionary comprehension that filters and extracts values from an iterable (in this case, `books`). The comprehension consists of three main components:\n",
       "\t+ `(book.get(\"author\"))`: Extracts the value associated with the key `\"author\"` from each dictionary `book` in the list. If the key does not exist, `get()` returns `None`.\n",
       "\t+ `for book in books`: Iterates over the `books` iterable.\n",
       "\t+ `if book.get(\"author\")`: Filters out dictionaries that do not have an `\"author\"` key.\n",
       "\n",
       "The resulting expression is a generator that yields values from each dictionary that contains an `\"author\"` key. These values are essentially author names extracted from the corresponding dictionaries in the `books` list.\n",
       "\n",
       "* `yield from ...`: The outer `yield from` keyword is used to delegate the iteration of the inner generator to the current function, allowing the returned iterator to yield values from the inner expression. This enables the use of a single `yield` statement instead of multiple nested `yield` statements.\n",
       "\n",
       "**Example Use Case**\n",
       "\n",
       "Suppose you have a list of books with their respective author names and you want to extract all unique author names:\n",
       "```python\n",
       "books = [\n",
       "    {\"title\": \"Book 1\", \"author\": \"Author A\"},\n",
       "    {\"title\": \"Book 2\", \"author\": \"Author B\"},\n",
       "    {\"title\": \"Book 3\"},\n",
       "    {\"title\": \"Book 4\", \"author\": \"Author C\"},\n",
       "]\n",
       "\n",
       "unique_authors = yield from {book.get(\"author\") for book in books if book.get(\"author\")}\n",
       "\n",
       "# The unique_authors variable will contain a set of unique author names\n",
       "print(unique_authors)  # Output: {'Author A', 'Author B', 'Author C'}\n",
       "```\n",
       "In this example, the `yield from` expression extracts all unique author names from the list of books and stores them in the `unique_authors` variable."
      ],
      "text/plain": [
       "<IPython.core.display.Markdown object>"
      ]
     },
     "metadata": {},
     "output_type": "display_data"
    }
   ],
   "source": [
    "# Get Llama 3.2 to answer\n",
    "response = ollama.chat(model=MODEL_LLAMA, messages=messages)\n",
    "reply = response['message']['content']\n",
    "display(Markdown(reply))"
   ]
  },
  {
   "cell_type": "code",
   "execution_count": null,
   "id": "05b175f7-eab9-43b1-b1a0-0948922e30ba",
   "metadata": {},
   "outputs": [],
   "source": []
  }
 ],
 "metadata": {
  "kernelspec": {
   "display_name": "Python 3 (ipykernel)",
   "language": "python",
   "name": "python3"
  },
  "language_info": {
   "codemirror_mode": {
    "name": "ipython",
    "version": 3
   },
   "file_extension": ".py",
   "mimetype": "text/x-python",
   "name": "python",
   "nbconvert_exporter": "python",
   "pygments_lexer": "ipython3",
   "version": "3.11.13"
  }
 },
 "nbformat": 4,
 "nbformat_minor": 5
}
